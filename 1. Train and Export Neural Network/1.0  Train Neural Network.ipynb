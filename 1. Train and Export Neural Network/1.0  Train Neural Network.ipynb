{
 "cells": [
  {
   "cell_type": "markdown",
   "id": "86fff2a7-5c33-4f4c-82e6-cdb2592cf7ef",
   "metadata": {},
   "source": [
    "# Retrain object detection from jupyter for cleaner flow and tensorboard"
   ]
  },
  {
   "cell_type": "markdown",
   "id": "701599ec-7477-4f5b-9cd4-b4737a1364fc",
   "metadata": {},
   "source": [
    "# 1. Import Dependencies"
   ]
  },
  {
   "cell_type": "code",
   "execution_count": null,
   "id": "d5b7425a-cfa1-4ef1-9338-443cf32ac6bc",
   "metadata": {},
   "outputs": [],
   "source": [
    "import os\n",
    "!pip install wget\n",
    "import wget\n"
   ]
  },
  {
   "cell_type": "markdown",
   "id": "25626035-b99b-44c1-8f86-9691b6e18ab1",
   "metadata": {},
   "source": [
    "### 1.0 Clone Tensorflow model repo"
   ]
  },
  {
   "cell_type": "code",
   "execution_count": null,
   "id": "6d4ced9f-8aab-4890-a078-a37bb3d1c288",
   "metadata": {},
   "outputs": [],
   "source": [
    "!cd {os.getcwd()}\n",
    "!git clone https://github.com/tensorflow/models\n"
   ]
  },
  {
   "cell_type": "code",
   "execution_count": null,
   "id": "8d8bbb5e-1d74-442a-bf88-845f3d338bf4",
   "metadata": {},
   "outputs": [],
   "source": [
    "#PRETRAINED_MODEL_1 = 'ssd_mobilenet_v2_fpnlite_320x320_coco17_tpu-8'\n",
    "PRETRAINED_MODEL_1 = 'ssd_mobilenet_v2_fpnlite_640x640_coco17_tpu-8'\n",
    "PRETRAINED_MODEL_URL = 'http://download.tensorflow.org/models/object_detection/tf2/20200711/ssd_mobilenet_v2_fpnlite_640x640_coco17_tpu-8.tar.gz'"
   ]
  },
  {
   "cell_type": "code",
   "execution_count": null,
   "id": "66e0ca87-564c-4d4e-a796-017937693d5a",
   "metadata": {},
   "outputs": [],
   "source": [
    "!cd {os.getcwd()}\n",
    "wget.download(PRETRAINED_MODEL_URL)"
   ]
  },
  {
   "cell_type": "markdown",
   "id": "11c8b2e6-c3a2-464f-ad63-b7af41eb4d93",
   "metadata": {},
   "source": [
    "### 1.2 Download Protocol buffers and extract to protoc path"
   ]
  },
  {
   "cell_type": "code",
   "execution_count": null,
   "id": "3af92038-e255-4747-acc6-c457d3bb5262",
   "metadata": {},
   "outputs": [],
   "source": [
    "PROTOC_PATH = os.path.join('protoc')"
   ]
  },
  {
   "cell_type": "code",
   "execution_count": null,
   "id": "a35076da-3f38-4be5-8d10-6f04f0b1df38",
   "metadata": {},
   "outputs": [],
   "source": [
    "zip\n",
    "\n",
    "!cd {os.getcwd()}\n",
    "url=\"https://github.com/protocolbuffers/protobuf/releases/download/v21.2/protoc-21.2-win64.zip\"\n",
    "wget.download(url)\n",
    "PROTOC_PATH = os.path.join('protoc')\n",
    "!mkdir PROTOC\n",
    "!move protoc-21.2-win64.zip {PROTOC_PATH}\n",
    "!cd {PROTOC_PATH} && tar -xf protoc-21.2-win64.zip\n",
    "os.environ['PATH'] += os.pathsep + os.path.abspath(os.path.join(PROTOC_PATH, 'bin')) \n"
   ]
  },
  {
   "cell_type": "markdown",
   "id": "b4e1a400-5723-411e-aed5-74e04d6cffab",
   "metadata": {},
   "source": [
    "### 1.3 Install tensorflow object detection api & protocol buffers"
   ]
  },
  {
   "cell_type": "code",
   "execution_count": null,
   "id": "fcfdc2b8-e7ce-4cef-b559-c886acf259c5",
   "metadata": {},
   "outputs": [],
   "source": [
    "!cd models/research && protoc object_detection/protos/*.proto --python_out=. && copy object_detection\\\\packages\\\\tf2\\\\setup.py setup.py && python setup.py build && python setup.py install\n",
    "!cd models/research/slim && pip install -e . "
   ]
  },
  {
   "cell_type": "markdown",
   "id": "a955d221-cb19-4e36-addd-c24c2b05c3fa",
   "metadata": {},
   "source": [
    "### 1.4 Verify Correct Installation"
   ]
  },
  {
   "cell_type": "code",
   "execution_count": null,
   "id": "46da2a35-9727-481d-adae-6df57e229ed9",
   "metadata": {},
   "outputs": [],
   "source": [
    "VERIFICATION_SCRIPT = os.path.join('models', 'research', 'object_detection', 'builders', 'model_builder_tf2_test.py')\n",
    "# Verify Installation\n",
    "!python {VERIFICATION_SCRIPT}"
   ]
  },
  {
   "cell_type": "code",
   "execution_count": null,
   "id": "b863e96c-e93b-43cc-bc9c-63fd33e7970e",
   "metadata": {},
   "outputs": [],
   "source": [
    "!pip install tensorflow --upgrade"
   ]
  },
  {
   "cell_type": "code",
   "execution_count": null,
   "id": "7385c984-11d4-4f7c-a587-881fff49862b",
   "metadata": {},
   "outputs": [],
   "source": [
    "#Verify if object_detection can be imported"
   ]
  },
  {
   "cell_type": "code",
   "execution_count": null,
   "id": "2241d3a0-a0bf-4e8e-9f89-db007c7a61c5",
   "metadata": {},
   "outputs": [],
   "source": [
    "import object_detection"
   ]
  },
  {
   "cell_type": "code",
   "execution_count": null,
   "id": "810b1d75-58c2-4663-90fd-b5a67d6c5303",
   "metadata": {},
   "outputs": [],
   "source": [
    "!pip list"
   ]
  },
  {
   "cell_type": "markdown",
   "id": "3eb8a742-1c13-4957-868a-9dbc33b80bec",
   "metadata": {},
   "source": [
    "### 1.5 Download tensorflow model ssd_mobilenet_v2_fpnlite_320x320_coco17_tpu-8"
   ]
  },
  {
   "cell_type": "code",
   "execution_count": null,
   "id": "438c68a2-171d-437c-b58e-806da7c64ff6",
   "metadata": {},
   "outputs": [],
   "source": [
    "PRETRAINED_MODEL_NAME ='ssd_mobilenet_v2_fpnlite_640x640_coco17_tpu-8'\n",
    "PRETRAINED_MODEL_URL = 'http://download.tensorflow.org/models/object_detection/tf2/20200711/ssd_mobilenet_v2_fpnlite_640x640_coco17_tpu-8.tar.gz'"
   ]
  },
  {
   "cell_type": "code",
   "execution_count": null,
   "id": "2c2dfe4a-b719-44c7-af47-1f75f2cacea8",
   "metadata": {},
   "outputs": [],
   "source": [
    "#PRETRAINED_MODEL_1 = 'ssd_mobilenet_v2_fpnlite_320x320_coco17_tpu-8'\n",
    "PRETRAINED_MODEL_NAME = 'ssd_mobilenet_v2_fpnlite_640x640_coco17_tpu-8'\n",
    "PRETRAINED_MODEL_URL = 'http://download.tensorflow.org/models/object_detection/tf2/20200711/ssd_mobilenet_v2_fpnlite_640x640_coco17_tpu-8.tar.gz'\n",
    "\n",
    "#!cd C:/Programming/Blackjack_counter_jupyter/models/research/object_detection\n",
    "#download and extract tf model from tf model zoo\n",
    "wget.download(PRETRAINED_MODEL_URL)\n",
    "!mkdir pretrained_models\n",
    "!move ssd_mobilenet_v2_fpnlite_640x640_coco17_tpu-8.tar.gz {os.path.join('pretrained_models')}\n",
    "!cd pretrained_models && tar -zxvf {PRETRAINED_MODEL_NAME+ '.tar.gz'}"
   ]
  },
  {
   "cell_type": "markdown",
   "id": "ec857f40-08b4-4acc-a30d-63596befbf54",
   "metadata": {},
   "source": [
    "# 2. Create Label Map"
   ]
  },
  {
   "cell_type": "code",
   "execution_count": null,
   "id": "1dcf8783-66d8-473a-ac55-9fc7040d9e52",
   "metadata": {},
   "outputs": [],
   "source": [
    "#52 cards: 13 x 4 (2->A, Clubs, Spades, Hearts, Diamonds)\n",
    "\n",
    "labels = [\n",
    "    {'name':'AH', 'id':1},\n",
    "    {'name' : '2H','id': 2},\n",
    "    {'name' : '3H','id': 3},\n",
    "    {'name' : '4H','id': 4},\n",
    "    {'name' : '5H','id': 5},\n",
    "    {'name' : '6H','id': 6},\n",
    "    {'name' : '7H','id': 7},\n",
    "    {'name' : '8H','id': 8},\n",
    "    {'name' : '9H','id': 9},\n",
    "    {'name' : '10H','id': 10},\n",
    "    {'name' : 'JH','id': 11},\n",
    "    {'name' : 'QH','id': 12},\n",
    "    {'name' : 'KH','id': 13},\n",
    "    {'name' : 'AS','id': 14},\n",
    "    {'name' : '2S','id': 15},\n",
    "    {'name' : '3S','id': 16},\n",
    "    {'name' : '4S','id': 17},\n",
    "    {'name' : '5S','id': 18},\n",
    "    {'name' : '6S','id': 19},\n",
    "    {'name' : '7S','id': 20},\n",
    "    {'name' : '8S','id': 21},\n",
    "    {'name' : '9S','id': 22},\n",
    "    {'name' : '10S','id': 23},\n",
    "    {'name' : 'JS','id': 24},\n",
    "    {'name' : 'QS','id': 25},\n",
    "    {'name' : 'KS','id': 26},\n",
    "    {'name' : 'AC','id': 27},\n",
    "    {'name' : '2C','id': 28},\n",
    "    {'name' : '3C','id': 29},\n",
    "    {'name' : '4C','id': 30},\n",
    "    {'name' : '5C','id': 31},\n",
    "    {'name' : '6C','id': 32},\n",
    "    {'name' : '7C','id': 33},\n",
    "    {'name' : '8C','id': 34},\n",
    "    {'name' : '9C','id': 35},\n",
    "    {'name' : '10C','id': 36},\n",
    "    {'name' : 'JC','id': 37},\n",
    "    {'name' : 'QC','id': 38},\n",
    "    {'name' : 'KC','id': 39},\n",
    "    {'name' : 'AD','id': 40},\n",
    "    {'name' : '2D','id': 41},\n",
    "    {'name' : '3D','id': 42},\n",
    "    {'name' : '4D','id': 43},\n",
    "    {'name' : '5D','id': 44},\n",
    "    {'name' : '6D','id': 45},\n",
    "    {'name' : '7D','id': 46},\n",
    "    {'name' : '8D','id': 47},\n",
    "    {'name' : '9D','id': 48},\n",
    "    {'name' : '10D','id': 49},\n",
    "    {'name' : 'JD','id': 50},\n",
    "    {'name' : 'QD','id': 51},\n",
    "    {'name' : 'KD','id': 52},\n",
    "]\n",
    "\n",
    "!mkdir LABEL_MAPS\n",
    "label_map_path = os.path.join('LABEL_MAPS','labelmap.pbtxt')\n",
    "with open(label_map_path, 'w') as f:\n",
    "    for label in labels:\n",
    "        f.write('item { \\n')\n",
    "        f.write('\\tname :\\'{}\\'\\n'.format(label['name']))\n",
    "        f.write('\\tid : {}\\n'.format(label['id']))\n",
    "        f.write('}\\n')\n"
   ]
  },
  {
   "cell_type": "markdown",
   "id": "938e9387-ee0a-43a7-990a-19a1fb52d232",
   "metadata": {},
   "source": [
    "# 3. Create TFRecords"
   ]
  },
  {
   "cell_type": "code",
   "execution_count": null,
   "id": "18f51c5b-4f75-43fd-892b-81aa95c38b34",
   "metadata": {},
   "outputs": [],
   "source": [
    "#download tf record script\n",
    "#if not os.path.exists(files['TF_RECORD_SCRIPT']):\n",
    "#    !git clone https://github.com/nicknochnack/GenerateTFRecord {paths['SCRIPTS_PATH']}\n",
    "\n",
    "#Edit to make label map!"
   ]
  },
  {
   "cell_type": "code",
   "execution_count": null,
   "id": "4924d071-37df-44df-9641-aa0cefd74367",
   "metadata": {},
   "outputs": [],
   "source": [
    "#if not os.path.exists(files['TF_RECORD_SCRIPT']):\n",
    "#    !git clone https://github.com/nicknochnack/GenerateTFRecord {paths['SCRIPTS_PATH']}"
   ]
  },
  {
   "cell_type": "code",
   "execution_count": null,
   "id": "1a6bdee4-ea56-41d3-a9ea-371225c31739",
   "metadata": {},
   "outputs": [],
   "source": [
    "!mkdir scripts"
   ]
  },
  {
   "cell_type": "markdown",
   "id": "bf40feb7-6095-4779-a5fd-855bed655eb4",
   "metadata": {},
   "source": [
    "# NEED TO MAKE OWN TFRECORD SCRIPT"
   ]
  },
  {
   "cell_type": "code",
   "execution_count": null,
   "id": "ccc25829-93b6-4d6a-996e-9257630b4bb0",
   "metadata": {},
   "outputs": [],
   "source": [
    "\n",
    "!cd scripts\n",
    "!git clone https://github.com/NpEric360/Blackjack-Counter-/blob/main/blackjack_tfrecord_gen.py {os.path.join('scripts')}\n"
   ]
  },
  {
   "cell_type": "code",
   "execution_count": null,
   "id": "d1c05a52-77f9-4ea8-be9d-37953c9e87d3",
   "metadata": {},
   "outputs": [],
   "source": [
    "tf_record_script_path = os.path.join('scripts','blackjack_tfrecord_gen.py')\n",
    "\n",
    "train_images_path = os.path.join('data','train')\n",
    "train_annotations_path = os.path.join('data','csv_inputs','_annotations_train.csv')\n",
    "\n",
    "test_images_path = os.path.join('data','test')\n",
    "test_annotations_path = os.path.join('data','csv_inputs','_annotations_test.csv')\n"
   ]
  },
  {
   "cell_type": "code",
   "execution_count": null,
   "id": "e18c14de-4a06-478c-b7d4-2f6baa4783e9",
   "metadata": {},
   "outputs": [],
   "source": [
    "#Need to edit the tfrecord script ot match label map"
   ]
  },
  {
   "cell_type": "markdown",
   "id": "16caabba-95e6-4f63-8bf4-13e07c4467c1",
   "metadata": {},
   "source": [
    "# need to upload dataset link\n",
    "https://universe.roboflow.com/augmented-startups/playing-cards-ow27d "
   ]
  },
  {
   "cell_type": "markdown",
   "id": "93e421b5-2370-44b9-89d8-91d49d6e7bc6",
   "metadata": {},
   "source": [
    "### 4.1 Run tfrecord script for train/test/val"
   ]
  },
  {
   "cell_type": "code",
   "execution_count": null,
   "id": "a4db195f-8176-41a7-aa1e-6ad45ec79062",
   "metadata": {},
   "outputs": [],
   "source": [
    "!python {os.path.join('scripts','blackjack_tfrecord_gen.py')}  --csv_input={os.path.join('data','csv_inputs','_annotations_train.csv')} --output_path=data/train.record --image_dir={os.path.join('data','train')}"
   ]
  },
  {
   "cell_type": "code",
   "execution_count": null,
   "id": "6952a74f-d886-4b0a-82b0-5c16c98a5c44",
   "metadata": {},
   "outputs": [],
   "source": [
    "!python {os.path.join('scripts','blackjack_tfrecord_gen.py')}  --csv_input={os.path.join('data','csv_inputs','_annotations_test.csv')} --output_path=data/test.record --image_dir={os.path.join('data','test')}"
   ]
  },
  {
   "cell_type": "code",
   "execution_count": null,
   "id": "5d910243-9f4d-4c03-a70a-f4eac713283e",
   "metadata": {},
   "outputs": [],
   "source": [
    "!python {os.path.join('scripts','blackjack_tfrecord_gen.py')}  --csv_input={os.path.join('data','csv_inputs','_annotations_val.csv')} --output_path=data/val.record --image_dir={os.path.join('data','valid')}"
   ]
  },
  {
   "cell_type": "markdown",
   "id": "ab1b60d3-9240-465c-a51b-296a9afabc7e",
   "metadata": {},
   "source": [
    "### 5. Copy Model Config to Training Folder"
   ]
  },
  {
   "cell_type": "code",
   "execution_count": null,
   "id": "0ff2bf85-6e00-4644-adfa-1cdb5d08e6b4",
   "metadata": {},
   "outputs": [],
   "source": [
    "os.name"
   ]
  },
  {
   "cell_type": "code",
   "execution_count": null,
   "id": "766c34be-2a8d-41db-9daa-5314da2fc792",
   "metadata": {},
   "outputs": [],
   "source": [
    "!mkdir trained_model"
   ]
  },
  {
   "cell_type": "code",
   "execution_count": null,
   "id": "155dd21f-dd4a-48b5-a74d-a02b8cf2578a",
   "metadata": {},
   "outputs": [],
   "source": [
    "#security of folders: \"the sysetm cannot find the file specified\"\n",
    "#manually copied\n",
    "!copy {os.path.join(os.getcwd(),'pretrained_models','ssd_mobilenet_v2_fpnlite_640x640_coco17_tpu-8','pipeline.config')} {'model_checkpoints'}"
   ]
  },
  {
   "cell_type": "code",
   "execution_count": null,
   "id": "b2035a1b-82f9-4222-a931-4eea0a171815",
   "metadata": {},
   "outputs": [],
   "source": [
    "#!copy {os.path.join('scripts','pipeline.config')}"
   ]
  },
  {
   "cell_type": "markdown",
   "id": "5f0e49f1-5f97-4209-80b9-4738d2dee208",
   "metadata": {},
   "source": [
    "### 6. Update Model Pipeline Config for Transfer Learning"
   ]
  },
  {
   "cell_type": "code",
   "execution_count": null,
   "id": "e552b9fc-932b-471b-a9f0-f02876fb75d3",
   "metadata": {},
   "outputs": [],
   "source": [
    "import tensorflow as tf\n",
    "from object_detection.utils import config_util\n",
    "from object_detection.protos import pipeline_pb2\n",
    "from google.protobuf import text_format\n",
    "#if error: ImportError: cannot import name 'builder' from 'google.protobuf.internal' (C:\\ProgramData\\Anaconda3\\lib\\site-packages\\google\\protobuf\\internal\\__init__.py\n",
    "#python -m pip install --upgrade protobuf, -> rerun protoc object_detection/protos/*.proto --python_out=.\n",
    "#for some reason 3.20.1 works, but 3.19.4 allows tensorboard to work\n",
    "#pip install protobuf==3.20.1"
   ]
  },
  {
   "cell_type": "code",
   "execution_count": null,
   "id": "f717f497-ec2d-4dca-a63d-9b3094cda340",
   "metadata": {},
   "outputs": [],
   "source": []
  },
  {
   "cell_type": "code",
   "execution_count": null,
   "id": "d3bec627-6d96-445d-b10a-6f3c7788b85f",
   "metadata": {},
   "outputs": [],
   "source": [
    "pipeline_config_filepath = os.path.join('pretrained_models','ssd_mobilenet_v2_fpnlite_640x640_coco17_tpu-8','pipeline.config')\n",
    "config = config_util.get_configs_from_pipeline_file(pipeline_config_filepath)\n"
   ]
  },
  {
   "cell_type": "code",
   "execution_count": null,
   "id": "e2b39244-8492-484e-ad38-63fc2014806f",
   "metadata": {},
   "outputs": [],
   "source": [
    "config "
   ]
  },
  {
   "cell_type": "code",
   "execution_count": null,
   "id": "caf83e6c-4f74-41b2-a508-176c685ca46c",
   "metadata": {},
   "outputs": [],
   "source": [
    "pipeline_config = pipeline_pb2.TrainEvalPipelineConfig()\n",
    "with tf.io.gfile.GFile(pipeline_config_filepath, \"r\") as f:                                                                                                                                                                                                                     \n",
    "    proto_str = f.read()                                                                                                                                                                                                                                          \n",
    "    text_format.Merge(proto_str, pipeline_config)  "
   ]
  },
  {
   "cell_type": "code",
   "execution_count": null,
   "id": "f2f69b17-3a11-494a-9918-0786468563c4",
   "metadata": {},
   "outputs": [],
   "source": [
    "#Need to edit several parameters in the pipeline config:\n",
    "#1. number of classes\n",
    "#2. fine_tune_checkpoint file paths, classification->detection\n",
    "#3. train_input_config file path\n",
    "#4. eval_input paths"
   ]
  },
  {
   "cell_type": "code",
   "execution_count": null,
   "id": "de635ae0-895b-4e38-ba34-2d1ba496e0cf",
   "metadata": {},
   "outputs": [],
   "source": [
    "pipeline_config"
   ]
  },
  {
   "cell_type": "code",
   "execution_count": null,
   "id": "7705e9cf-0717-4014-b737-3713ba93af36",
   "metadata": {},
   "outputs": [],
   "source": [
    "pipeline_config.model.ssd.num_classes = 52 \n",
    "pipeline_config.train_config.batch_size = 4\n",
    "#edit this path if training is interrupted\n",
    "pipeline_config.train_config.fine_tune_checkpoint=os.path.join(os.getcwd(),'pretrained_models','ssd_mobilenet_v2_fpnlite_640x640_coco17_tpu-8','checkpoint','ckpt-0')\n",
    "\n",
    "#pipeline_config.train_config.fine_tune_checkpoint =\"C:/Programming/models/research/object_detection/ssd_mobilenet_v2_fpnlite_640x640_coco17_tpu-8/checkpoint/ckpt-0\"\n",
    "pipeline_config.train_config.fine_tune_checkpoint_type = \"detection\"\n",
    "pipeline_config.train_input_reader.label_map_path =os.path.join(os.getcwd(),'LABEL_MAPS','labelmap.pbtxt')  #\"C:/Programming/BJ_Counter/LABEL_MAPS/labelmap.pbtxt\"\n",
    "pipeline_config.train_input_reader.tf_record_input_reader.input_path[:] = [os.path.join(os.getcwd(),'data','train.record')]#\"C:/Programming/BJ_Counter/data/train.record\"]\n",
    "pipeline_config.eval_input_reader[0].label_map_path = os.path.join(os.getcwd(),'LABEL_MAPS','labelmap.pbtxt')#\"C:/Programming/BJ_Counter/LABEL_MAPS/labelmap.pbtxt\"\n",
    "pipeline_config.eval_input_reader[0].tf_record_input_reader.input_path[:] = [os.path.join(os.getcwd(),'data','test.record')]\n"
   ]
  },
  {
   "cell_type": "code",
   "execution_count": null,
   "id": "aab6f8fa-4c0c-4e6e-964b-f38941244da3",
   "metadata": {},
   "outputs": [],
   "source": [
    "#!copy \"C:/Programming/Blackjack_counter_jupyter/models/research/object_detection/ssd_mobilenet_v2_fpnlite_640x640_coco17_tpu-8/checkpoint/ckpt-0.index\""
   ]
  },
  {
   "cell_type": "code",
   "execution_count": null,
   "id": "4c035f0c-3af2-4f36-b83f-a4dfa68cff5a",
   "metadata": {},
   "outputs": [],
   "source": [
    "pipeline_config"
   ]
  },
  {
   "cell_type": "code",
   "execution_count": null,
   "id": "905a4f46-70bd-4d23-a849-791f718fe110",
   "metadata": {},
   "outputs": [],
   "source": []
  },
  {
   "cell_type": "code",
   "execution_count": null,
   "id": "42c8b3dd-00ee-4bb0-8a2c-4546d01a4b21",
   "metadata": {},
   "outputs": [],
   "source": [
    "#overwrite file\n",
    "config_text = text_format.MessageToString(pipeline_config)                                                                                                                                                                                                        \n",
    "with tf.io.gfile.GFile(os.path.join('data','pipeline.config'), \"wb\") as f:                                                                                                                                                                                                                     \n",
    "    f.write(config_text)   "
   ]
  },
  {
   "cell_type": "markdown",
   "id": "41299689-7610-4c21-ac7a-45789723d7cd",
   "metadata": {},
   "source": [
    "### 7. Train Model Using Generated Command Line"
   ]
  },
  {
   "cell_type": "code",
   "execution_count": null,
   "id": "046a7ec7-7137-4b88-80d3-ee78e8e2130b",
   "metadata": {},
   "outputs": [],
   "source": [
    "!mkdir trained_model"
   ]
  },
  {
   "cell_type": "code",
   "execution_count": null,
   "id": "ee70192a-1b9c-4458-94a5-9fc026334272",
   "metadata": {},
   "outputs": [],
   "source": [
    "model_train_script = 'model_main_tf2.py'\n",
    "model_filepath= os.path.join('trained_model')\n",
    "pipeline_filepath = os.path.join('data','pipeline.config')\n",
    "command = \"python {} --model_dir={} --pipeline_config_path={} --alsologtostderr\".format(model_train_script,model_filepath, pipeline_filepath)\n",
    "#python model_main_tf2.py --pipeline_config_path=x/pipeline.config --model_dir=_____ --alsologtostderr\n",
    "print(command)"
   ]
  },
  {
   "cell_type": "code",
   "execution_count": null,
   "id": "13ec76ae-8b23-4dd8-8f81-13ced4f3bd75",
   "metadata": {},
   "outputs": [],
   "source": [
    "python model_main_tf2.py --model_dir=trained_models/SSD_RESNET152_V1_FPN_640x640_coco17_tpu8 --pipeline_config_path=pretrained_models\\ssd_resnet152_v1_fpn_640x640_coco17_tpu-8\\ssd_resnet152_v1_pipeline.config --alsologtostderr"
   ]
  },
  {
   "cell_type": "code",
   "execution_count": null,
   "id": "af1a71ee-7a5e-4123-812b-11f4209fd698",
   "metadata": {},
   "outputs": [],
   "source": [
    "python model_main_tf2.py --model_dir=trained_models/ssd_retry --pipeline_config_path=pretrained_models\\ssd_resnet152_v1_fpn_640x640_coco17_tpu-8\\ssd_resnet152_v1_pipeline.config --alsologtostderr"
   ]
  },
  {
   "cell_type": "code",
   "execution_count": null,
   "id": "847db846-7ce8-465d-9353-6ed582f53342",
   "metadata": {},
   "outputs": [],
   "source": [
    "os.getcwd()"
   ]
  },
  {
   "cell_type": "code",
   "execution_count": null,
   "id": "96181ccd-b350-4f7d-8a4f-bf7528708408",
   "metadata": {},
   "outputs": [],
   "source": [
    "#copy model_main_tf2.py to main folder\n",
    "!copy {os.path.join('models','research','object_detection','model_main_tf2.py')}"
   ]
  },
  {
   "cell_type": "code",
   "execution_count": null,
   "id": "7f148181-3117-4fe7-8f07-b106e7740e9c",
   "metadata": {},
   "outputs": [],
   "source": [
    "!{command}"
   ]
  },
  {
   "cell_type": "code",
   "execution_count": null,
   "id": "89fb98fd-2b21-4f1f-bba6-1896008e5aff",
   "metadata": {},
   "outputs": [],
   "source": [
    "python model_main_tf2.py --model_dir=pretrained_models/efficientdet_d1_coco17_tpu-32 --pipeline_config_path=trained/models/efficientdet_d1_coco17_tpu-32/efficientnetpipeline.config --alsologtostderr"
   ]
  },
  {
   "cell_type": "code",
   "execution_count": null,
   "id": "2ce07938-2f83-4ff6-97bc-16fac0e2dbb4",
   "metadata": {},
   "outputs": [],
   "source": [
    "!copy {os.path.join('C:\\\\','Programming','Blackjack_counter_jupyter','models','research','object_detection','ssd_mobilenet_v2_fpnlite_640x640_coco17_tpu-8','checkpoint','ckpt-0.index')}"
   ]
  },
  {
   "cell_type": "markdown",
   "id": "91a45240-35bb-41c1-acff-18cbb6ace648",
   "metadata": {},
   "source": [
    "### 8. Evaluate Model"
   ]
  },
  {
   "cell_type": "code",
   "execution_count": null,
   "id": "8dc11618-7472-42c5-b795-6b0c630a4580",
   "metadata": {},
   "outputs": [],
   "source": [
    "model_train_script = 'model_main_tf2.py'\n",
    "model_filepath= os.path.join('trained_model')\n",
    "pipeline_filepath = os.path.join('data','pipeline.config')\n",
    "checkpoint_dir = os.path.join('trained_model')\n",
    "command = \"python {} --model_dir={} --pipeline_config_path={} --checkpoint_dir={} --alsologtostderr\".format(model_train_script,model_filepath, pipeline_filepath,checkpoint_dir)\n",
    "#python model_main_tf2.py --pipeline_config_path=x/pipeline.config --model_dir=_____ --alsologtostderr\n",
    "print(command)"
   ]
  },
  {
   "cell_type": "code",
   "execution_count": 1,
   "id": "db20cc14-0bc3-4bda-b87a-b516c8442222",
   "metadata": {
    "tags": []
   },
   "outputs": [],
   "source": [
    "### Load Train Model from Checkpoint"
   ]
  },
  {
   "cell_type": "markdown",
   "id": "14042fbe-920a-4b3d-bb0b-d20f4ce3d443",
   "metadata": {},
   "source": [
    "### 9. Export Inference Graph"
   ]
  },
  {
   "cell_type": "code",
   "execution_count": null,
   "id": "9eea8cdb-71ec-4c85-ab0e-1053a918cbc7",
   "metadata": {},
   "outputs": [],
   "source": [
    "!mkdir inference_graph\n",
    "!move {os.path.join('inference_graph')} {os.path.join('trained_model')}"
   ]
  },
  {
   "cell_type": "code",
   "execution_count": 2,
   "id": "7ce659f0-a931-4dd1-8dfe-f165ba37c3c4",
   "metadata": {},
   "outputs": [
    {
     "name": "stdout",
     "output_type": "stream",
     "text": [
      "python scripts\\exporter_main_v2.py --trained_checkpoint_dir=trained_model --pipeline_config_path=data\\pipeline.config --output_directory=trained_model\\inference_graph \n"
     ]
    }
   ],
   "source": [
    "import os\n",
    "exporter_script = os.path.join('scripts','exporter_main_v2.py')\n",
    "trained_checkpoint_dir = os.path.join('trained_model')\n",
    "pipeline_config_path = os.path.join('data','pipeline.config')\n",
    "output_directory = os.path.join('trained_model','inference_graph')\n",
    "\n",
    "command = \"python {} --trained_checkpoint_dir={} --pipeline_config_path={} --output_directory={} \".format(exporter_script,trained_checkpoint_dir,pipeline_config_path,output_directory)\n",
    "print(command)\n",
    "#python {} --trained_checkpoint_dir={} --pipeline_config_path={} --output_directory /mydrive/customTF2/data/inference_graph"
   ]
  },
  {
   "cell_type": "code",
   "execution_count": null,
   "id": "d7c16143-1e84-49ae-9a85-7c1fed0ad99c",
   "metadata": {},
   "outputs": [],
   "source": []
  },
  {
   "cell_type": "code",
   "execution_count": null,
   "id": "1f402c8b-4340-4416-b642-58dabd421122",
   "metadata": {},
   "outputs": [],
   "source": [
    "!copy {os.path.join('models','research','object_detection','exporter_main_v2.py')} {os.path.join('scripts')}"
   ]
  },
  {
   "cell_type": "code",
   "execution_count": null,
   "id": "7fa3e7cf-8e40-4fe2-9c6c-d12fa266fca4",
   "metadata": {},
   "outputs": [],
   "source": [
    "!python {os.path.join('scripts','exporter_main_v2.py')} --trained_checkpoint_dir=trained_model --pipeline_config_path=data\\pipeline.config --output_directory=trained_model\\inference_graph "
   ]
  },
  {
   "cell_type": "markdown",
   "id": "123130d6-20a6-42d5-808f-26e27d5e40ec",
   "metadata": {},
   "source": [
    "#  9.1 Export Inference Graph as TFLite (OPTIONAL)"
   ]
  },
  {
   "cell_type": "code",
   "execution_count": null,
   "id": "cae257aa-ec02-4e0f-abcc-8e6e2a6e1edb",
   "metadata": {},
   "outputs": [],
   "source": [
    "#NOTE, NOT ALL MODELS CAN BE CONVERTED TO TFLite due to unsupported ops\n",
    "\n",
    "# Convert the model\n",
    "saved_model_dir=os.path.join('trained_models','efficientdet_d1_coco17_tpu-32','inference_graph','saved_model')\n",
    "\n",
    "#saved_model_dir = os.path.join('trained_model','inference_graph','saved_model')\n",
    "converter = tf.lite.TFLiteConverter.from_saved_model(saved_model_dir) # path to the SavedModel directory\n",
    "converter.target_spec.supported_ops = [\n",
    "  tf.lite.OpsSet.TFLITE_BUILTINS, # enable TensorFlow Lite ops.\n",
    "  tf.lite.OpsSet.SELECT_TF_OPS # enable TensorFlow ops.\n",
    "]\n",
    "efficientdet_tflite_model = converter.convert()\n",
    "\n",
    "# Save the model.\n",
    "with open('model.tflite', 'wb') as f:\n",
    "  f.write(efficientdet_tflite_model)"
   ]
  },
  {
   "cell_type": "code",
   "execution_count": null,
   "id": "284f8dbe-88ad-4ee3-a986-83c04a22b5ce",
   "metadata": {},
   "outputs": [],
   "source": [
    "python models/research/object_detection/model_main_tf2.py --model_dir=/models/research/object_detection/ssd_mobilenet_v2_fpnlite_640x640_coco17_tpu-8/checkpoint --pipeline_config_path=model_checkpoints/pipeline.config --num_train_steps=2000 --logtostderr --train_dir=training/ "
   ]
  }
 ],
 "metadata": {
  "kernelspec": {
   "display_name": "Python 3 (ipykernel)",
   "language": "python",
   "name": "python3"
  },
  "language_info": {
   "codemirror_mode": {
    "name": "ipython",
    "version": 3
   },
   "file_extension": ".py",
   "mimetype": "text/x-python",
   "name": "python",
   "nbconvert_exporter": "python",
   "pygments_lexer": "ipython3",
   "version": "3.9.12"
  }
 },
 "nbformat": 4,
 "nbformat_minor": 5
}
